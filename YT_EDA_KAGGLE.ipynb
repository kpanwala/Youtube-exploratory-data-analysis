{
  "nbformat": 4,
  "nbformat_minor": 0,
  "metadata": {
    "colab": {
      "name": "YT EDA KAGGLE",
      "provenance": [],
      "collapsed_sections": [],
      "toc_visible": true
    },
    "kernelspec": {
      "display_name": "Python 3",
      "name": "python3"
    }
  },
  "cells": [
    {
      "cell_type": "code",
      "metadata": {
        "id": "QDR8hanIq-_E",
        "colab_type": "code",
        "colab": {
          "resources": {
            "http://localhost:8080/nbextensions/google.colab/files.js": {
              "data": "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",
              "ok": true,
              "headers": [
                [
                  "content-type",
                  "application/javascript"
                ]
              ],
              "status": 200,
              "status_text": ""
            }
          },
          "base_uri": "https://localhost:8080/",
          "height": 147
        },
        "outputId": "a3abbf63-7f40-4d14-a1a5-ac7801708cea"
      },
      "source": [
        "from google.colab import files\n",
        "files.upload()\n",
        "\n",
        "!mkdir ~p ~/.kaggle\n",
        "!cp kaggle.json ~/.kaggle/\n",
        "\n",
        "!chmod 600 ~/.kaggle/kaggle.json\n",
        "\n",
        "!kaggle datasets download -d datasnaek/youtube-new\n",
        "\n",
        "from zipfile import ZipFile\n",
        "file_name=\"youtube-new.zip\"\n",
        "\n",
        "with ZipFile(file_name,'r') as zip:\n",
        "  zip.extractall()\n",
        "  print('done')\n",
        "  \n",
        "  \n",
        "import tensorflow as tf\n",
        "\n",
        "from sklearn.datasets import load_files\n",
        "import numpy as np\n",
        "import pandas as pd\n"
      ],
      "execution_count": 2,
      "outputs": [
        {
          "output_type": "display_data",
          "data": {
            "text/html": [
              "\n",
              "     <input type=\"file\" id=\"files-bc9b6e06-e442-4052-afe9-dd8098df029d\" name=\"files[]\" multiple disabled />\n",
              "     <output id=\"result-bc9b6e06-e442-4052-afe9-dd8098df029d\">\n",
              "      Upload widget is only available when the cell has been executed in the\n",
              "      current browser session. Please rerun this cell to enable.\n",
              "      </output>\n",
              "      <script src=\"/nbextensions/google.colab/files.js\"></script> "
            ],
            "text/plain": [
              "<IPython.core.display.HTML object>"
            ]
          },
          "metadata": {
            "tags": []
          }
        },
        {
          "output_type": "stream",
          "text": [
            "Saving kaggle.json to kaggle.json\n",
            "Downloading youtube-new.zip to /content\n",
            "100% 200M/201M [00:08<00:00, 24.6MB/s]\n",
            "100% 201M/201M [00:08<00:00, 25.4MB/s]\n",
            "done\n"
          ],
          "name": "stdout"
        }
      ]
    },
    {
      "cell_type": "code",
      "metadata": {
        "id": "NVroTwMlr8DZ",
        "colab_type": "code",
        "outputId": "6bbf3c59-629a-4be1-9952-11bdea75b985",
        "colab": {
          "base_uri": "https://localhost:8080/",
          "height": 561
        }
      },
      "source": [
        "data=pd.read_csv(\"INvideos.csv\")\n",
        "data.head()\n",
        "\n",
        "df=data\n",
        "#data=df\n",
        "\n",
        "df.drop(['video_id','thumbnail_link','description'],axis=1,inplace=True)\n",
        "df.drop(['comments_disabled','ratings_disabled','video_error_or_removed'],axis=1,inplace=True)\n",
        "data.head()\n",
        "\n",
        "data['channel_title'].value_counts()"
      ],
      "execution_count": 162,
      "outputs": [
        {
          "output_type": "execute_result",
          "data": {
            "text/html": [
              "<div>\n",
              "<style scoped>\n",
              "    .dataframe tbody tr th:only-of-type {\n",
              "        vertical-align: middle;\n",
              "    }\n",
              "\n",
              "    .dataframe tbody tr th {\n",
              "        vertical-align: top;\n",
              "    }\n",
              "\n",
              "    .dataframe thead th {\n",
              "        text-align: right;\n",
              "    }\n",
              "</style>\n",
              "<table border=\"1\" class=\"dataframe\">\n",
              "  <thead>\n",
              "    <tr style=\"text-align: right;\">\n",
              "      <th></th>\n",
              "      <th>trending_date</th>\n",
              "      <th>title</th>\n",
              "      <th>channel_title</th>\n",
              "      <th>category_id</th>\n",
              "      <th>publish_time</th>\n",
              "      <th>tags</th>\n",
              "      <th>views</th>\n",
              "      <th>likes</th>\n",
              "      <th>dislikes</th>\n",
              "      <th>comment_count</th>\n",
              "    </tr>\n",
              "  </thead>\n",
              "  <tbody>\n",
              "    <tr>\n",
              "      <th>0</th>\n",
              "      <td>17.14.11</td>\n",
              "      <td>Sharry Mann: Cute Munda ( Song Teaser) | Parmi...</td>\n",
              "      <td>Lokdhun Punjabi</td>\n",
              "      <td>1</td>\n",
              "      <td>2017-11-12T12:20:39.000Z</td>\n",
              "      <td>sharry mann|\"sharry mann new song\"|\"sharry man...</td>\n",
              "      <td>1096327</td>\n",
              "      <td>33966</td>\n",
              "      <td>798</td>\n",
              "      <td>882</td>\n",
              "    </tr>\n",
              "    <tr>\n",
              "      <th>1</th>\n",
              "      <td>17.14.11</td>\n",
              "      <td>पीरियड्स के समय, पेट पर पति करता ऐसा, देखकर दं...</td>\n",
              "      <td>HJ NEWS</td>\n",
              "      <td>25</td>\n",
              "      <td>2017-11-13T05:43:56.000Z</td>\n",
              "      <td>पीरियड्स के समय|\"पेट पर पति करता ऐसा\"|\"देखकर द...</td>\n",
              "      <td>590101</td>\n",
              "      <td>735</td>\n",
              "      <td>904</td>\n",
              "      <td>0</td>\n",
              "    </tr>\n",
              "    <tr>\n",
              "      <th>2</th>\n",
              "      <td>17.14.11</td>\n",
              "      <td>Stylish Star Allu Arjun @ ChaySam Wedding Rece...</td>\n",
              "      <td>TFPC</td>\n",
              "      <td>24</td>\n",
              "      <td>2017-11-12T15:48:08.000Z</td>\n",
              "      <td>Stylish Star Allu Arjun @ ChaySam Wedding Rece...</td>\n",
              "      <td>473988</td>\n",
              "      <td>2011</td>\n",
              "      <td>243</td>\n",
              "      <td>149</td>\n",
              "    </tr>\n",
              "    <tr>\n",
              "      <th>3</th>\n",
              "      <td>17.14.11</td>\n",
              "      <td>Eruma Saani | Tamil vs English</td>\n",
              "      <td>Eruma Saani</td>\n",
              "      <td>23</td>\n",
              "      <td>2017-11-12T07:08:48.000Z</td>\n",
              "      <td>Eruma Saani|\"Tamil Comedy Videos\"|\"Films\"|\"Mov...</td>\n",
              "      <td>1242680</td>\n",
              "      <td>70353</td>\n",
              "      <td>1624</td>\n",
              "      <td>2684</td>\n",
              "    </tr>\n",
              "    <tr>\n",
              "      <th>4</th>\n",
              "      <td>17.14.11</td>\n",
              "      <td>why Samantha became EMOTIONAL @ Samantha naga ...</td>\n",
              "      <td>Filmylooks</td>\n",
              "      <td>24</td>\n",
              "      <td>2017-11-13T01:14:16.000Z</td>\n",
              "      <td>Filmylooks|\"latest news\"|\"telugu movies\"|\"telu...</td>\n",
              "      <td>464015</td>\n",
              "      <td>492</td>\n",
              "      <td>293</td>\n",
              "      <td>66</td>\n",
              "    </tr>\n",
              "  </tbody>\n",
              "</table>\n",
              "</div>"
            ],
            "text/plain": [
              "  trending_date  ... comment_count\n",
              "0      17.14.11  ...           882\n",
              "1      17.14.11  ...             0\n",
              "2      17.14.11  ...           149\n",
              "3      17.14.11  ...          2684\n",
              "4      17.14.11  ...            66\n",
              "\n",
              "[5 rows x 10 columns]"
            ]
          },
          "metadata": {
            "tags": []
          },
          "execution_count": 162
        }
      ]
    },
    {
      "cell_type": "code",
      "metadata": {
        "id": "E6Ruk0DGSOqP",
        "colab_type": "code",
        "colab": {
          "base_uri": "https://localhost:8080/",
          "height": 230
        },
        "outputId": "4627cd57-acc3-44db-ad6c-3db9c99ed85c"
      },
      "source": [
        "# Just wanted to analyse SAB TV (channel_title) video title's and\n",
        "# found out that almost every video that was trending was of taarak mehta ka ooltah chasmah ! HAHAHA :|)\n",
        "data.dtypes\n",
        "new=[]\n",
        "new = [[x[0],x[1]] for x in data.values if x[2]==\"SAB TV\"]\n",
        "\n",
        "for tp in new:\n",
        "  if tp[1].lower().find(\"taarak mehta ka\") == -1: \n",
        "    #print(\"NO\") \n",
        "    tp.append('NO')\n",
        "  else: \n",
        "    #print(\"YES\")\n",
        "    tp.append('YES')\n",
        "\n",
        "new\n",
        "\n",
        "sab_tv=pd.DataFrame(new,columns=['date','title','Bool'])\n",
        "sab_tv.head()\n",
        "\n",
        "sab_tv['Bool'].value_counts()\n",
        "sns.countplot('Bool',data=sab_tv)"
      ],
      "execution_count": 196,
      "outputs": [
        {
          "output_type": "execute_result",
          "data": {
            "text/plain": [
              "18.14.05    4\n",
              "18.28.05    2\n",
              "18.09.05    2\n",
              "18.22.03    2\n",
              "18.25.04    2\n",
              "           ..\n",
              "17.20.11    1\n",
              "18.23.02    1\n",
              "17.30.11    1\n",
              "17.16.12    1\n",
              "17.09.12    1\n",
              "Name: date, Length: 203, dtype: int64"
            ]
          },
          "metadata": {
            "tags": []
          },
          "execution_count": 196
        }
      ]
    },
    {
      "cell_type": "code",
      "metadata": {
        "id": "qoezsdh-tL2N",
        "colab_type": "code",
        "outputId": "04f45eab-ee86-4377-a297-d99fa5f0cb8d",
        "colab": {
          "base_uri": "https://localhost:8080/",
          "height": 1000
        }
      },
      "source": [
        "df['category_id'].value_counts()"
      ],
      "execution_count": 135,
      "outputs": [
        {
          "output_type": "execute_result",
          "data": {
            "text/html": [
              "<div>\n",
              "<style scoped>\n",
              "    .dataframe tbody tr th:only-of-type {\n",
              "        vertical-align: middle;\n",
              "    }\n",
              "\n",
              "    .dataframe tbody tr th {\n",
              "        vertical-align: top;\n",
              "    }\n",
              "\n",
              "    .dataframe thead th {\n",
              "        text-align: right;\n",
              "    }\n",
              "</style>\n",
              "<table border=\"1\" class=\"dataframe\">\n",
              "  <thead>\n",
              "    <tr style=\"text-align: right;\">\n",
              "      <th></th>\n",
              "      <th>trending_date</th>\n",
              "      <th>title</th>\n",
              "      <th>channel_title</th>\n",
              "      <th>category_id</th>\n",
              "      <th>publish_time</th>\n",
              "      <th>tags</th>\n",
              "      <th>views</th>\n",
              "      <th>likes</th>\n",
              "      <th>dislikes</th>\n",
              "      <th>comment_count</th>\n",
              "    </tr>\n",
              "  </thead>\n",
              "  <tbody>\n",
              "    <tr>\n",
              "      <th>0</th>\n",
              "      <td>17.14.11</td>\n",
              "      <td>Sharry Mann: Cute Munda ( Song Teaser) | Parmi...</td>\n",
              "      <td>Lokdhun Punjabi</td>\n",
              "      <td>1</td>\n",
              "      <td>2017-11-12T12:20:39.000Z</td>\n",
              "      <td>sharry mann|\"sharry mann new song\"|\"sharry man...</td>\n",
              "      <td>1096327</td>\n",
              "      <td>33966</td>\n",
              "      <td>798</td>\n",
              "      <td>882</td>\n",
              "    </tr>\n",
              "    <tr>\n",
              "      <th>1</th>\n",
              "      <td>17.14.11</td>\n",
              "      <td>पीरियड्स के समय, पेट पर पति करता ऐसा, देखकर दं...</td>\n",
              "      <td>HJ NEWS</td>\n",
              "      <td>25</td>\n",
              "      <td>2017-11-13T05:43:56.000Z</td>\n",
              "      <td>पीरियड्स के समय|\"पेट पर पति करता ऐसा\"|\"देखकर द...</td>\n",
              "      <td>590101</td>\n",
              "      <td>735</td>\n",
              "      <td>904</td>\n",
              "      <td>0</td>\n",
              "    </tr>\n",
              "    <tr>\n",
              "      <th>2</th>\n",
              "      <td>17.14.11</td>\n",
              "      <td>Stylish Star Allu Arjun @ ChaySam Wedding Rece...</td>\n",
              "      <td>TFPC</td>\n",
              "      <td>24</td>\n",
              "      <td>2017-11-12T15:48:08.000Z</td>\n",
              "      <td>Stylish Star Allu Arjun @ ChaySam Wedding Rece...</td>\n",
              "      <td>473988</td>\n",
              "      <td>2011</td>\n",
              "      <td>243</td>\n",
              "      <td>149</td>\n",
              "    </tr>\n",
              "    <tr>\n",
              "      <th>3</th>\n",
              "      <td>17.14.11</td>\n",
              "      <td>Eruma Saani | Tamil vs English</td>\n",
              "      <td>Eruma Saani</td>\n",
              "      <td>23</td>\n",
              "      <td>2017-11-12T07:08:48.000Z</td>\n",
              "      <td>Eruma Saani|\"Tamil Comedy Videos\"|\"Films\"|\"Mov...</td>\n",
              "      <td>1242680</td>\n",
              "      <td>70353</td>\n",
              "      <td>1624</td>\n",
              "      <td>2684</td>\n",
              "    </tr>\n",
              "    <tr>\n",
              "      <th>4</th>\n",
              "      <td>17.14.11</td>\n",
              "      <td>why Samantha became EMOTIONAL @ Samantha naga ...</td>\n",
              "      <td>Filmylooks</td>\n",
              "      <td>24</td>\n",
              "      <td>2017-11-13T01:14:16.000Z</td>\n",
              "      <td>Filmylooks|\"latest news\"|\"telugu movies\"|\"telu...</td>\n",
              "      <td>464015</td>\n",
              "      <td>492</td>\n",
              "      <td>293</td>\n",
              "      <td>66</td>\n",
              "    </tr>\n",
              "    <tr>\n",
              "      <th>...</th>\n",
              "      <td>...</td>\n",
              "      <td>...</td>\n",
              "      <td>...</td>\n",
              "      <td>...</td>\n",
              "      <td>...</td>\n",
              "      <td>...</td>\n",
              "      <td>...</td>\n",
              "      <td>...</td>\n",
              "      <td>...</td>\n",
              "      <td>...</td>\n",
              "    </tr>\n",
              "    <tr>\n",
              "      <th>37347</th>\n",
              "      <td>18.14.06</td>\n",
              "      <td>फेकू आशिक़ - राजस्थान की सबसे शानदार कॉमेडी | ...</td>\n",
              "      <td>RDC Rajasthani</td>\n",
              "      <td>23</td>\n",
              "      <td>2018-06-13T08:01:11.000Z</td>\n",
              "      <td>twinkle vaishnav comedy|\"twinkle vaishnav\"|\"tw...</td>\n",
              "      <td>214378</td>\n",
              "      <td>3291</td>\n",
              "      <td>404</td>\n",
              "      <td>196</td>\n",
              "    </tr>\n",
              "    <tr>\n",
              "      <th>37348</th>\n",
              "      <td>18.14.06</td>\n",
              "      <td>Seetha | Flowers | Ep# 364</td>\n",
              "      <td>Flowers TV</td>\n",
              "      <td>24</td>\n",
              "      <td>2018-06-13T11:30:04.000Z</td>\n",
              "      <td>flowers serials|\"actress\"|\"malayalam serials\"|...</td>\n",
              "      <td>406828</td>\n",
              "      <td>1726</td>\n",
              "      <td>478</td>\n",
              "      <td>1428</td>\n",
              "    </tr>\n",
              "    <tr>\n",
              "      <th>37349</th>\n",
              "      <td>18.14.06</td>\n",
              "      <td>Bhramanam I Episode 87 - 12 June 2018 I Mazhav...</td>\n",
              "      <td>Mazhavil Manorama</td>\n",
              "      <td>24</td>\n",
              "      <td>2018-06-13T05:00:02.000Z</td>\n",
              "      <td>mazhavil manorama|\"bhramanam full episode\"|\"gt...</td>\n",
              "      <td>386319</td>\n",
              "      <td>1216</td>\n",
              "      <td>453</td>\n",
              "      <td>697</td>\n",
              "    </tr>\n",
              "    <tr>\n",
              "      <th>37350</th>\n",
              "      <td>18.14.06</td>\n",
              "      <td>Nua Bohu | Full Ep 285 | 13th June 2018 | Odia...</td>\n",
              "      <td>Tarang TV</td>\n",
              "      <td>24</td>\n",
              "      <td>2018-06-13T15:07:49.000Z</td>\n",
              "      <td>tarang|\"tarang tv\"|\"tarang tv online\"|\"tarang ...</td>\n",
              "      <td>130263</td>\n",
              "      <td>698</td>\n",
              "      <td>115</td>\n",
              "      <td>65</td>\n",
              "    </tr>\n",
              "    <tr>\n",
              "      <th>37351</th>\n",
              "      <td>18.14.06</td>\n",
              "      <td>Ee Nagaraniki Emaindi Trailer | Tharun Bhascke...</td>\n",
              "      <td>Suresh Productions</td>\n",
              "      <td>24</td>\n",
              "      <td>2018-06-10T04:29:54.000Z</td>\n",
              "      <td>Ee Nagaraniki Emaindi|\"Ee Nagaraniki Emaindi T...</td>\n",
              "      <td>1278249</td>\n",
              "      <td>22466</td>\n",
              "      <td>1609</td>\n",
              "      <td>1205</td>\n",
              "    </tr>\n",
              "  </tbody>\n",
              "</table>\n",
              "<p>37352 rows × 10 columns</p>\n",
              "</div>"
            ],
            "text/plain": [
              "      trending_date  ... comment_count\n",
              "0          17.14.11  ...           882\n",
              "1          17.14.11  ...             0\n",
              "2          17.14.11  ...           149\n",
              "3          17.14.11  ...          2684\n",
              "4          17.14.11  ...            66\n",
              "...             ...  ...           ...\n",
              "37347      18.14.06  ...           196\n",
              "37348      18.14.06  ...          1428\n",
              "37349      18.14.06  ...           697\n",
              "37350      18.14.06  ...            65\n",
              "37351      18.14.06  ...          1205\n",
              "\n",
              "[37352 rows x 10 columns]"
            ]
          },
          "metadata": {
            "tags": []
          },
          "execution_count": 135
        }
      ]
    },
    {
      "cell_type": "code",
      "metadata": {
        "id": "tjylNfqNtjLJ",
        "colab_type": "code",
        "outputId": "05051ac9-ec00-4623-ed38-c46cd8789123",
        "colab": {
          "base_uri": "https://localhost:8080/",
          "height": 568
        }
      },
      "source": [
        "import json\n",
        "\n",
        "with open('./IN_category_id.json') as f:\n",
        "  data1 = json.load(f)\n",
        "\n",
        "print(data1)\n",
        "\n",
        "lis=data1['items']\n",
        "print(lis)\n",
        "\n",
        "rows_list = []\n",
        "for row in lis:\n",
        "  dict1 = {'id':row['id'],'title':row['snippet']['title']}\n",
        "  rows_list.append(dict1)\n",
        "\n",
        "print(rows_list)\n",
        "index = pd.DataFrame(rows_list) \n",
        "index.set_index('id', inplace=True)\n",
        "\n",
        "ind_dict=index.to_dict()\n",
        "index.head()"
      ],
      "execution_count": 46,
      "outputs": [
        {
          "output_type": "execute_result",
          "data": {
            "text/plain": [
              "{'title': {'1': 'Film & Animation',\n",
              "  '10': 'Music',\n",
              "  '15': 'Pets & Animals',\n",
              "  '17': 'Sports',\n",
              "  '18': 'Short Movies',\n",
              "  '19': 'Travel & Events',\n",
              "  '2': 'Autos & Vehicles',\n",
              "  '20': 'Gaming',\n",
              "  '21': 'Videoblogging',\n",
              "  '22': 'People & Blogs',\n",
              "  '23': 'Comedy',\n",
              "  '24': 'Entertainment',\n",
              "  '25': 'News & Politics',\n",
              "  '26': 'Howto & Style',\n",
              "  '27': 'Education',\n",
              "  '28': 'Science & Technology',\n",
              "  '30': 'Movies',\n",
              "  '31': 'Anime/Animation',\n",
              "  '32': 'Action/Adventure',\n",
              "  '33': 'Classics',\n",
              "  '34': 'Comedy',\n",
              "  '35': 'Documentary',\n",
              "  '36': 'Drama',\n",
              "  '37': 'Family',\n",
              "  '38': 'Foreign',\n",
              "  '39': 'Horror',\n",
              "  '40': 'Sci-Fi/Fantasy',\n",
              "  '41': 'Thriller',\n",
              "  '42': 'Shorts',\n",
              "  '43': 'Shows',\n",
              "  '44': 'Trailers'}}"
            ]
          },
          "metadata": {
            "tags": []
          },
          "execution_count": 46
        }
      ]
    },
    {
      "cell_type": "code",
      "metadata": {
        "id": "p8NXlqWO19o9",
        "colab_type": "code",
        "colab": {
          "base_uri": "https://localhost:8080/",
          "height": 230
        },
        "outputId": "f62d4f0d-f03e-4595-9d29-f61470bba8d8"
      },
      "source": [
        "dt=data.groupby('category_id')\n",
        "dtt=dt.sum()\n",
        "dtt['category']='xyz'\n",
        "dtt['id'] = dtt.index\n",
        "\n",
        "i=0\n",
        "for dft in dtt.values:\n",
        "  dtt[i:i+1].category=ind_dict.get('title').get(str(dft[5]))\n",
        "  i=i+1\n",
        "\n",
        "dtt.head()"
      ],
      "execution_count": 106,
      "outputs": [
        {
          "output_type": "execute_result",
          "data": {
            "text/html": [
              "<div>\n",
              "<style scoped>\n",
              "    .dataframe tbody tr th:only-of-type {\n",
              "        vertical-align: middle;\n",
              "    }\n",
              "\n",
              "    .dataframe tbody tr th {\n",
              "        vertical-align: top;\n",
              "    }\n",
              "\n",
              "    .dataframe thead th {\n",
              "        text-align: right;\n",
              "    }\n",
              "</style>\n",
              "<table border=\"1\" class=\"dataframe\">\n",
              "  <thead>\n",
              "    <tr style=\"text-align: right;\">\n",
              "      <th></th>\n",
              "      <th>views</th>\n",
              "      <th>likes</th>\n",
              "      <th>dislikes</th>\n",
              "      <th>comment_count</th>\n",
              "      <th>category</th>\n",
              "      <th>id</th>\n",
              "    </tr>\n",
              "    <tr>\n",
              "      <th>category_id</th>\n",
              "      <th></th>\n",
              "      <th></th>\n",
              "      <th></th>\n",
              "      <th></th>\n",
              "      <th></th>\n",
              "      <th></th>\n",
              "    </tr>\n",
              "  </thead>\n",
              "  <tbody>\n",
              "    <tr>\n",
              "      <th>1</th>\n",
              "      <td>3847149504</td>\n",
              "      <td>69241553</td>\n",
              "      <td>4315081</td>\n",
              "      <td>5789446</td>\n",
              "      <td>Film &amp; Animation</td>\n",
              "      <td>1</td>\n",
              "    </tr>\n",
              "    <tr>\n",
              "      <th>2</th>\n",
              "      <td>30384725</td>\n",
              "      <td>539571</td>\n",
              "      <td>22284</td>\n",
              "      <td>86488</td>\n",
              "      <td>Autos &amp; Vehicles</td>\n",
              "      <td>2</td>\n",
              "    </tr>\n",
              "    <tr>\n",
              "      <th>10</th>\n",
              "      <td>10150844485</td>\n",
              "      <td>254328536</td>\n",
              "      <td>15030992</td>\n",
              "      <td>17595070</td>\n",
              "      <td>Music</td>\n",
              "      <td>10</td>\n",
              "    </tr>\n",
              "    <tr>\n",
              "      <th>15</th>\n",
              "      <td>4879743</td>\n",
              "      <td>362534</td>\n",
              "      <td>6488</td>\n",
              "      <td>42056</td>\n",
              "      <td>Pets &amp; Animals</td>\n",
              "      <td>15</td>\n",
              "    </tr>\n",
              "    <tr>\n",
              "      <th>17</th>\n",
              "      <td>1379949159</td>\n",
              "      <td>32969986</td>\n",
              "      <td>1316379</td>\n",
              "      <td>2717679</td>\n",
              "      <td>Sports</td>\n",
              "      <td>17</td>\n",
              "    </tr>\n",
              "  </tbody>\n",
              "</table>\n",
              "</div>"
            ],
            "text/plain": [
              "                   views      likes  ...          category  id\n",
              "category_id                          ...                      \n",
              "1             3847149504   69241553  ...  Film & Animation   1\n",
              "2               30384725     539571  ...  Autos & Vehicles   2\n",
              "10           10150844485  254328536  ...             Music  10\n",
              "15               4879743     362534  ...    Pets & Animals  15\n",
              "17            1379949159   32969986  ...            Sports  17\n",
              "\n",
              "[5 rows x 6 columns]"
            ]
          },
          "metadata": {
            "tags": []
          },
          "execution_count": 106
        }
      ]
    },
    {
      "cell_type": "code",
      "metadata": {
        "id": "_z6GU8nA5GJB",
        "colab_type": "code",
        "colab": {
          "base_uri": "https://localhost:8080/",
          "height": 297
        },
        "outputId": "67ea5cb1-4a65-4ae3-e5f5-19b4d385d6d3"
      },
      "source": [
        "import seaborn as sns\n",
        "dtt_views=dtt.sort_values('views',ascending=False)\n",
        "dtt.head()\n",
        "\n",
        "sns.barplot(y='category',x='views',data=dtt_views)"
      ],
      "execution_count": 119,
      "outputs": [
        {
          "output_type": "execute_result",
          "data": {
            "text/plain": [
              "<matplotlib.axes._subplots.AxesSubplot at 0x7fe356523160>"
            ]
          },
          "metadata": {
            "tags": []
          },
          "execution_count": 119
        },
        {
          "output_type": "display_data",
          "data": {
            "image/png": "[encoded data removed]",
            "text/plain": [
              "<Figure size 432x288 with 1 Axes>"
            ]
          },
          "metadata": {
            "tags": []
          }
        }
      ]
    },
    {
      "cell_type": "code",
      "metadata": {
        "id": "PtVBsG7yMvxZ",
        "colab_type": "code",
        "colab": {
          "base_uri": "https://localhost:8080/",
          "height": 297
        },
        "outputId": "45468df9-01c9-4374-a4d6-aad58a0b1a33"
      },
      "source": [
        "dtt_likes=dtt.sort_values('likes',ascending=False)\n",
        "\n",
        "sns.barplot(y='category',x='likes',data=dtt_likes)"
      ],
      "execution_count": 123,
      "outputs": [
        {
          "output_type": "execute_result",
          "data": {
            "text/plain": [
              "<matplotlib.axes._subplots.AxesSubplot at 0x7fe356448ac8>"
            ]
          },
          "metadata": {
            "tags": []
          },
          "execution_count": 123
        },
        {
          "output_type": "display_data",
          "data": {
            "image/png": "[encoded data removed]",
            "text/plain": [
              "<Figure size 432x288 with 1 Axes>"
            ]
          },
          "metadata": {
            "tags": []
          }
        }
      ]
    }
  ]
}